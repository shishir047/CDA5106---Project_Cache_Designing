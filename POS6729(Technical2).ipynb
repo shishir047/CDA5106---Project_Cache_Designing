{
  "nbformat": 4,
  "nbformat_minor": 0,
  "metadata": {
    "colab": {
      "provenance": [],
      "authorship_tag": "ABX9TyMJndQ0yKG/R+iFvG9QD/S3",
      "include_colab_link": true
    },
    "kernelspec": {
      "name": "python3",
      "display_name": "Python 3"
    },
    "language_info": {
      "name": "python"
    }
  },
  "cells": [
    {
      "cell_type": "markdown",
      "metadata": {
        "id": "view-in-github",
        "colab_type": "text"
      },
      "source": [
        "<a href=\"https://colab.research.google.com/github/shishir047/CDA5106---Project_Cache_Designing/blob/main/POS6729(Technical2).ipynb\" target=\"_parent\"><img src=\"https://colab.research.google.com/assets/colab-badge.svg\" alt=\"Open In Colab\"/></a>"
      ]
    },
    {
      "cell_type": "code",
      "execution_count": 20,
      "metadata": {
        "id": "4R5MmQzE5b-p"
      },
      "outputs": [],
      "source": [
        "file_path = '1stNetworkUpload.txt'"
      ]
    },
    {
      "cell_type": "code",
      "source": [
        "data_2d = []\n",
        "preparedList = []\n",
        "with open(file_path, 'r') as file:\n",
        "    for line in file:\n",
        "        row = line.strip()\n",
        "        data_2d.append([row])\n",
        "    for row in data_2d:\n",
        "      split_row = [int(x) for x in row[0].split('\\t')]\n",
        "      preparedList.append(split_row)"
      ],
      "metadata": {
        "id": "oFe5JtOO6TJC"
      },
      "execution_count": 21,
      "outputs": []
    },
    {
      "cell_type": "code",
      "source": [
        "hashmap = {}\n",
        "for sublist in preparedList:\n",
        "    key = sublist[0]\n",
        "    if key in hashmap:\n",
        "        hashmap[key] += 1\n",
        "    else:\n",
        "        hashmap[key] = 1"
      ],
      "metadata": {
        "id": "VjmqBx6_H0Aj"
      },
      "execution_count": 22,
      "outputs": []
    },
    {
      "cell_type": "code",
      "source": [
        "list_with_more_than_one_connection = [key for key, value in hashmap.items() if value >= 1]\n",
        "print(\"nodes with at least one connection: \")\n",
        "print(list_with_more_than_one_connection)\n",
        "print(\"total count: \")\n",
        "print(len(list_with_more_than_one_connection))\n",
        "\n"
      ],
      "metadata": {
        "colab": {
          "base_uri": "https://localhost:8080/"
        },
        "id": "Sg8oOZR8Iju6",
        "outputId": "2df83137-36e2-40a5-b860-75e127e35b68"
      },
      "execution_count": 23,
      "outputs": [
        {
          "output_type": "stream",
          "name": "stdout",
          "text": [
            "nodes with at least one connection: \n",
            "[1, 2, 3, 4, 5, 6, 7, 8, 9, 10, 11, 12, 13, 14, 15, 16, 17, 18, 19, 20, 21, 22, 23, 24, 25, 26, 27, 28, 29, 30, 31, 32, 33, 34, 35, 36, 37, 38, 39, 40, 41, 42, 43, 44, 45, 46, 47, 48, 49, 50, 51, 52, 53, 54, 55, 56, 57, 58, 59, 60, 61, 62, 63, 64, 65, 66, 67, 68, 69, 70, 71, 72, 73, 74, 75, 76, 77, 78, 79, 80, 81, 82, 83, 84, 85, 86, 87, 88, 89, 90, 91, 92, 93, 94, 95, 96, 97]\n",
            "total count: \n",
            "97\n"
          ]
        }
      ]
    },
    {
      "cell_type": "code",
      "source": [
        "list_with_more_than_five_connection = [key for key, value in hashmap.items() if value >= 5]\n",
        "print(\"nodes with at least five connection: \")\n",
        "print(list_with_more_than_five_connection)\n",
        "print(\"total count: \")\n",
        "print(len(list_with_more_than_five_connection))"
      ],
      "metadata": {
        "colab": {
          "base_uri": "https://localhost:8080/"
        },
        "id": "GLC8STEDLxAu",
        "outputId": "97b419a6-a650-4876-e7c9-08f7759c8767"
      },
      "execution_count": 24,
      "outputs": [
        {
          "output_type": "stream",
          "name": "stdout",
          "text": [
            "nodes with at least five connection: \n",
            "[1, 2, 3, 4, 5, 6, 7, 8, 9, 10, 11, 12, 13, 14, 15, 16, 17, 18, 19, 20, 21, 22, 23, 24, 25, 26, 27, 28, 29, 30, 31, 32, 33, 34, 35, 36, 37, 38, 39, 40, 41, 42, 43, 44, 45, 46, 47, 48, 49, 50, 51, 52, 53, 54, 55, 56, 57, 58, 59, 60, 61, 62, 63, 64, 65, 66, 67, 68, 69, 70, 71, 72, 73, 74, 75, 76, 77, 78, 79, 80, 81, 82, 83, 84, 85, 86, 87, 88, 89, 90, 91, 92, 93]\n",
            "total count: \n",
            "93\n"
          ]
        }
      ]
    }
  ]
}